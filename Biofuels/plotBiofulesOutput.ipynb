{
 "cells": [
  {
   "cell_type": "code",
   "execution_count": 1,
   "metadata": {
    "collapsed": false
   },
   "outputs": [],
   "source": [
    "import os\n",
    "import sys\n",
    "import numpy as np\n",
    "import pandas as pd\n",
    "matplotlib.use('Agg')\n",
    "%matplotlib inline\n",
    "from matplotlib import pyplot as plt\n",
    "import Image\n",
    "\n",
    "\n",
    "rmg_path = os.getenv('RMGpy')\n",
    "if rmg_path and rmg_path not in sys.path:\n",
    "    sys.path.insert(1,rmg_path)\n",
    "\n",
    "import rmgpy.kinetics\n",
    "import rmgpy.reaction\n",
    "from rmgpy.molecule import Molecule, Atom\n",
    "from rmgpy.species import Species\n",
    "from rmgpy.data.rmg import RMGDatabase "
   ]
  },
  {
   "cell_type": "code",
   "execution_count": 2,
   "metadata": {
    "collapsed": true
   },
   "outputs": [],
   "source": [
    "mols = [\n",
    "    \"C8H18(2)\",\n",
    "    \"C8H18(3)\",\n",
    "    \"C8H18(4)\",\n",
    "    \"C5H12O(5)\",\n",
    "    \"C6H14O(6)\",\n",
    "    \"C9H18(7)\",\n",
    "    \"C6H12(8)\",\n",
    "    \"Ocimene(9)\",\n",
    "    \"Xylene(10)\",\n",
    "    \"C9H18O(11)\",\n",
    "    \"C8H16O(12)\",\n",
    "    \"S(13)\",\n",
    "    \"C8H18O(14)\"\n",
    "]"
   ]
  },
  {
   "cell_type": "code",
   "execution_count": 3,
   "metadata": {
    "collapsed": true
   },
   "outputs": [],
   "source": [
    "def evalArrhenius(autoTSTExpression):\n",
    "    if autoTSTExpression is np.nan:\n",
    "        return autoTSTExpression\n",
    "    try:\n",
    "        my_string = str(autoTSTExpression).strip(\"'\")\n",
    "        #print my_string\n",
    "        result = eval(my_string, {}, {'Arrhenius': rmgpy.kinetics.Arrhenius,\n",
    "                                     'MultiArrhenius': rmgpy.kinetics.MultiArrhenius,\n",
    "                                     'PDepArrhenius': rmgpy.kinetics.PDepArrhenius,})\n",
    "    except:\n",
    "        result = autoTSTExpression\n",
    "        raise\n",
    "    return result\n",
    "\n",
    "def evalReaction(reactionExpression):\n",
    "    if reactionExpression is np.nan:\n",
    "        return reactionExpression\n",
    "    try:\n",
    "        my_string = str(reactionExpression).strip(\"'\")\n",
    "        print my_string\n",
    "        result = eval(my_string, {}, {'Reaction': rmgpy.reaction.Reaction,\n",
    "                                     'Molecule' : rmgpy.molecule.Molecule})\n",
    "    except:\n",
    "        result = reactionExpression\n",
    "        raise\n",
    "    return result"
   ]
  },
  {
   "cell_type": "code",
   "execution_count": 4,
   "metadata": {
    "collapsed": false
   },
   "outputs": [
    {
     "data": {
      "text/plain": [
       "['./results/AutoTST-biofuels..combined.log',\n",
       " './results/AutoTST-biofuels.1.combined.log',\n",
       " './results/AutoTST-biofuels.10.combined.log',\n",
       " './results/AutoTST-biofuels.11.combined.log',\n",
       " './results/AutoTST-biofuels.12.combined.log',\n",
       " './results/AutoTST-biofuels.13.combined.log',\n",
       " './results/AutoTST-biofuels.14.combined.log',\n",
       " './results/AutoTST-biofuels.15.combined.log',\n",
       " './results/AutoTST-biofuels.16.combined.log',\n",
       " './results/AutoTST-biofuels.17.combined.log',\n",
       " './results/AutoTST-biofuels.18.combined.log',\n",
       " './results/AutoTST-biofuels.19.combined.log',\n",
       " './results/AutoTST-biofuels.2.combined.log',\n",
       " './results/AutoTST-biofuels.20.combined.log',\n",
       " './results/AutoTST-biofuels.21.combined.log',\n",
       " './results/AutoTST-biofuels.22.combined.log',\n",
       " './results/AutoTST-biofuels.23.combined.log',\n",
       " './results/AutoTST-biofuels.24.combined.log',\n",
       " './results/AutoTST-biofuels.25.combined.log',\n",
       " './results/AutoTST-biofuels.26.combined.log',\n",
       " './results/AutoTST-biofuels.27.combined.log',\n",
       " './results/AutoTST-biofuels.28.combined.log',\n",
       " './results/AutoTST-biofuels.29.combined.log',\n",
       " './results/AutoTST-biofuels.3.combined.log',\n",
       " './results/AutoTST-biofuels.30.combined.log',\n",
       " './results/AutoTST-biofuels.31.combined.log',\n",
       " './results/AutoTST-biofuels.32.combined.log',\n",
       " './results/AutoTST-biofuels.33.combined.log',\n",
       " './results/AutoTST-biofuels.34.combined.log',\n",
       " './results/AutoTST-biofuels.35.combined.log',\n",
       " './results/AutoTST-biofuels.36.combined.log',\n",
       " './results/AutoTST-biofuels.37.combined.log',\n",
       " './results/AutoTST-biofuels.38.combined.log',\n",
       " './results/AutoTST-biofuels.39.combined.log',\n",
       " './results/AutoTST-biofuels.4.combined.log',\n",
       " './results/AutoTST-biofuels.40.combined.log',\n",
       " './results/AutoTST-biofuels.41.combined.log',\n",
       " './results/AutoTST-biofuels.42.combined.log',\n",
       " './results/AutoTST-biofuels.43.combined.log',\n",
       " './results/AutoTST-biofuels.44.combined.log',\n",
       " './results/AutoTST-biofuels.45.combined.log',\n",
       " './results/AutoTST-biofuels.46.combined.log',\n",
       " './results/AutoTST-biofuels.47.combined.log',\n",
       " './results/AutoTST-biofuels.48.combined.log',\n",
       " './results/AutoTST-biofuels.49.combined.log',\n",
       " './results/AutoTST-biofuels.5.combined.log',\n",
       " './results/AutoTST-biofuels.50.combined.log',\n",
       " './results/AutoTST-biofuels.51.combined.log',\n",
       " './results/AutoTST-biofuels.52.combined.log',\n",
       " './results/AutoTST-biofuels.53.combined.log',\n",
       " './results/AutoTST-biofuels.54.combined.log',\n",
       " './results/AutoTST-biofuels.55.combined.log',\n",
       " './results/AutoTST-biofuels.56.combined.log',\n",
       " './results/AutoTST-biofuels.57.combined.log',\n",
       " './results/AutoTST-biofuels.58.combined.log',\n",
       " './results/AutoTST-biofuels.59.combined.log',\n",
       " './results/AutoTST-biofuels.6.combined.log',\n",
       " './results/AutoTST-biofuels.60.combined.log',\n",
       " './results/AutoTST-biofuels.61.combined.log',\n",
       " './results/AutoTST-biofuels.62.combined.log',\n",
       " './results/AutoTST-biofuels.63.combined.log',\n",
       " './results/AutoTST-biofuels.64.combined.log',\n",
       " './results/AutoTST-biofuels.65.combined.log',\n",
       " './results/AutoTST-biofuels.66.combined.log',\n",
       " './results/AutoTST-biofuels.67.combined.log',\n",
       " './results/AutoTST-biofuels.68.combined.log',\n",
       " './results/AutoTST-biofuels.69.combined.log',\n",
       " './results/AutoTST-biofuels.7.combined.log',\n",
       " './results/AutoTST-biofuels.70.combined.log',\n",
       " './results/AutoTST-biofuels.71.combined.log',\n",
       " './results/AutoTST-biofuels.72.combined.log',\n",
       " './results/AutoTST-biofuels.73.combined.log',\n",
       " './results/AutoTST-biofuels.74.combined.log',\n",
       " './results/AutoTST-biofuels.75.combined.log',\n",
       " './results/AutoTST-biofuels.76.combined.log',\n",
       " './results/AutoTST-biofuels.77.combined.log',\n",
       " './results/AutoTST-biofuels.78.combined.log',\n",
       " './results/AutoTST-biofuels.79.combined.log',\n",
       " './results/AutoTST-biofuels.8.combined.log',\n",
       " './results/AutoTST-biofuels.80.combined.log',\n",
       " './results/AutoTST-biofuels.9.combined.log',\n",
       " './results/AutoTST-biofuels.xxx.combined.log']"
      ]
     },
     "execution_count": 4,
     "metadata": {},
     "output_type": "execute_result"
    }
   ],
   "source": [
    "directory = \"./results\"\n",
    "\n",
    "filelist = []\n",
    "for filename in os.listdir(directory):\n",
    "    if filename.startswith(\"AutoTST-biofuels\") and filename.endswith(\"combined.log\"):\n",
    "        filelist.append(str(directory) + '/' + str(filename))\n",
    "    \n",
    "        \n",
    "filelist"
   ]
  },
  {
   "cell_type": "code",
   "execution_count": 5,
   "metadata": {
    "collapsed": false
   },
   "outputs": [
    {
     "data": {
      "text/plain": [
       "{'OO(15)+C6H13O(46)=C6H14O(6)+OOH(1)': Arrhenius(A=(0.000313006,'cm^3/(mol*s)'), n=4.43765, Ea=(-6.05793,'kJ/mol'), T0=(1,'K'), Tmin=(303.03,'K'), Tmax=(2500,'K'), comment=\"\"\"Fitted to 59 data points; dA = *|/ 1.07692, dn = +|- 0.00972598, dEa = +|- 0.0535027 kJ/mol\"\"\")}"
      ]
     },
     "execution_count": 5,
     "metadata": {},
     "output_type": "execute_result"
    }
   ],
   "source": [
    "kinDict = {}\n",
    "for filename in filelist:\n",
    "    f = open(filename, 'r')\n",
    "    lineList = f.readlines()\n",
    "    for fileline in lineList:\n",
    "        if fileline.startswith(\"biofuelsTST.py:105\"):\n",
    "            splt = fileline.split(' ')\n",
    "            reaction = splt[-1]\n",
    "            reaction = reaction[:-1]\n",
    "            #print reaction\n",
    "            #print\n",
    "\n",
    "        if fileline.startswith('Yay,'):\n",
    "            lastline = lineList[len(lineList)-1]\n",
    "            splt = lastline.split('kinetics ')\n",
    "            kinetics = splt[-1]\n",
    "            kinetics = evalArrhenius(kinetics[:-1])\n",
    "            #print type(kinetics)\n",
    "            #print\n",
    "\n",
    "            #print kinetics\n",
    "            kinDict[reaction] = kinetics\n",
    "\n",
    "kinDict"
   ]
  },
  {
   "cell_type": "code",
   "execution_count": 6,
   "metadata": {
    "collapsed": false
   },
   "outputs": [
    {
     "data": {
      "text/html": [
       "<div>\n",
       "<table border=\"1\" class=\"dataframe\">\n",
       "  <thead>\n",
       "    <tr style=\"text-align: right;\">\n",
       "      <th></th>\n",
       "      <th>Reaction</th>\n",
       "      <th>Kinetics</th>\n",
       "    </tr>\n",
       "  </thead>\n",
       "  <tbody>\n",
       "    <tr>\n",
       "      <th>0</th>\n",
       "      <td>OO(15)+C6H13O(46)=C6H14O(6)+OOH(1)</td>\n",
       "      <td>Arrhenius(A=(0.000313006,'cm^3/(mol*s)'), n=4....</td>\n",
       "    </tr>\n",
       "  </tbody>\n",
       "</table>\n",
       "</div>"
      ],
      "text/plain": [
       "                             Reaction  \\\n",
       "0  OO(15)+C6H13O(46)=C6H14O(6)+OOH(1)   \n",
       "\n",
       "                                            Kinetics  \n",
       "0  Arrhenius(A=(0.000313006,'cm^3/(mol*s)'), n=4....  "
      ]
     },
     "execution_count": 6,
     "metadata": {},
     "output_type": "execute_result"
    }
   ],
   "source": [
    "df = pd.DataFrame(kinDict.items(), columns=['Reaction', 'Kinetics'])\n",
    "df"
   ]
  },
  {
   "cell_type": "code",
   "execution_count": 7,
   "metadata": {
    "collapsed": true
   },
   "outputs": [],
   "source": [
    "ln_A = []\n",
    "E_a = []\n",
    "kin = {}\n",
    "inverseTemps = np.linspace(1000./800., 1000/2500., 15)\n",
    "Temps = 1000./inverseTemps\n",
    "comparisonPressure = 1e5"
   ]
  },
  {
   "cell_type": "code",
   "execution_count": 8,
   "metadata": {
    "collapsed": false
   },
   "outputs": [
    {
     "name": "stdout",
     "output_type": "stream",
     "text": [
      "[-3.50444734] [-6.05793]\n",
      "{'OO(15)+C6H13O(46)=C6H14O(6)+OOH(1)': [3.7739840149850354, 3.8507312642699567, 3.9325078800009581, 4.0198703584078537, 4.1134729968355872, 4.2140922449865661, 4.3226591411370237, 4.4403032850803488, 4.5684136514389273, 4.708724629309212, 4.8634409906567599, 5.0354250453384637, 5.2284872626431209, 5.4478576302987074, 5.7009920449990785]}\n"
     ]
    }
   ],
   "source": [
    "for i in range(len(df['Kinetics'])):\n",
    "    kinetics = df['Kinetics'].iloc[i]\n",
    "    reaction = df['Reaction'].iloc[i]\n",
    "\n",
    "    kinList = []\n",
    "    for Temp in Temps:\n",
    "        kinList.append(np.log10(kinetics.getRateCoefficient(T=Temp, P=comparisonPressure)))\n",
    "    kin[reaction] = kinList\n",
    "    A = float(str(kinetics.A).split(' ')[0])\n",
    "    #print A\n",
    "    ln_A.append(np.log10(A))\n",
    "\n",
    "    Ea = float(str(kinetics.Ea).split(' ')[0])\n",
    "    #print Ea\n",
    "    E_a.append(Ea)\n",
    "\n",
    "ln_A = np.array(ln_A)\n",
    "E_a = np.array(E_a)\n",
    "\n",
    "print ln_A, E_a\n",
    "print kin"
   ]
  },
  {
   "cell_type": "code",
   "execution_count": 17,
   "metadata": {
    "collapsed": false
   },
   "outputs": [
    {
     "data": {
      "text/plain": [
       "<matplotlib.figure.Figure at 0x1137925d0>"
      ]
     },
     "metadata": {},
     "output_type": "display_data"
    },
    {
     "data": {
      "text/plain": [
       "<matplotlib.figure.Figure at 0x1137929d0>"
      ]
     },
     "metadata": {},
     "output_type": "display_data"
    },
    {
     "data": {
      "text/plain": [
       "<matplotlib.figure.Figure at 0x1136bab90>"
      ]
     },
     "metadata": {},
     "output_type": "display_data"
    },
    {
     "data": {
      "text/plain": [
       "<matplotlib.figure.Figure at 0x113736bd0>"
      ]
     },
     "metadata": {},
     "output_type": "display_data"
    },
    {
     "data": {
      "image/png": "[encoded data removed]",
      "text/plain": [
       "<matplotlib.figure.Figure at 0x1136f7b90>"
      ]
     },
     "metadata": {},
     "output_type": "display_data"
    },
    {
     "data": {
      "text/plain": [
       "'for i in range(len(kin.keys())):\\n    rates = kin.values()[i]\\n    reaction = kin.keys()[i]\\n    fig, ax = plt.subplots()\\n    plt.plot(inverseTemps, rates, label=str(reaction))\\n    plt.xlabel(\"$1/T [K^{-1}]$\", fontsize=16)\\n    plt.ylabel(\"$log_{10}(k) [cm^3 / (mole \\\\cdot s)]$\", fontsize=16)\\n    \\n    Tticks = [800, 1000, 1500, 2500]\\n    ax.set_xticks([1000./T for T in Tticks])\\n    ax.set_xticklabels([\\'1/{:.0f}\\'.format(T) for T in Tticks])\\n    plt.tick_params(axis=\\'x\\', labelsize=11)\\n    plt.tick_params(axis=\\'y\\', labelsize=11)\\n    plt.legend()\\n    '"
      ]
     },
     "execution_count": 17,
     "metadata": {},
     "output_type": "execute_result"
    },
    {
     "data": {
      "text/plain": [
       "<matplotlib.figure.Figure at 0x10b07fc90>"
      ]
     },
     "metadata": {},
     "output_type": "display_data"
    },
    {
     "data": {
      "text/plain": [
       "<matplotlib.figure.Figure at 0x110186ed0>"
      ]
     },
     "metadata": {},
     "output_type": "display_data"
    },
    {
     "data": {
      "text/plain": [
       "<matplotlib.figure.Figure at 0x1125cfd90>"
      ]
     },
     "metadata": {},
     "output_type": "display_data"
    },
    {
     "data": {
      "text/plain": [
       "<matplotlib.figure.Figure at 0x113f4b4d0>"
      ]
     },
     "metadata": {},
     "output_type": "display_data"
    },
    {
     "data": {
      "text/plain": [
       "<matplotlib.figure.Figure at 0x113084ed0>"
      ]
     },
     "metadata": {},
     "output_type": "display_data"
    },
    {
     "data": {
      "text/plain": [
       "<matplotlib.figure.Figure at 0x1125f0710>"
      ]
     },
     "metadata": {},
     "output_type": "display_data"
    },
    {
     "data": {
      "text/plain": [
       "<matplotlib.figure.Figure at 0x113871e10>"
      ]
     },
     "metadata": {},
     "output_type": "display_data"
    },
    {
     "data": {
      "text/plain": [
       "<matplotlib.figure.Figure at 0x113900950>"
      ]
     },
     "metadata": {},
     "output_type": "display_data"
    }
   ],
   "source": [
    "# for reactions split up by different starting species\n",
    "for mol in mols:\n",
    "    for i in range(len(kin.keys())):\n",
    "        fig, ax = plt.subplots()\n",
    "        plt.clf()\n",
    "        if mol in kin.keys()[i]:\n",
    "            rates = kin.values()[i]\n",
    "            reaction = kin.keys()[i]\n",
    "            \n",
    "            plt.plot(inverseTemps, rates, label=str(reaction))\n",
    "            plt.xlabel(\"$1/T [K^{-1}]$\", fontsize=16)\n",
    "            plt.ylabel(\"$log_{10}(k) [cm^3 / (mole \\cdot s)]$\", fontsize=16)\n",
    "\n",
    "            Tticks = [800, 1000, 1500, 2500]\n",
    "            ax.set_xticks([1000./T for T in Tticks])\n",
    "            ax.set_xticklabels(['1/{:.0f}'.format(T) for T in Tticks])\n",
    "            plt.tick_params(axis='x', labelsize=11)\n",
    "            plt.tick_params(axis='y', labelsize=11)\n",
    "            plt.legend()\n",
    "            plt.show()\n",
    "            #fig.savefig(str(mol)+'.pdf')\n",
    "            \n",
    "    \n",
    "# all reactions\n",
    "for i in range(len(kin.keys())):\n",
    "    rates = kin.values()[i]\n",
    "    reaction = kin.keys()[i]\n",
    "    fig, ax = plt.subplots()\n",
    "    plt.plot(inverseTemps, rates, label=str(reaction))\n",
    "    plt.xlabel(\"$1/T [K^{-1}]$\", fontsize=16)\n",
    "    plt.ylabel(\"$log_{10}(k) [cm^3 / (mole \\cdot s)]$\", fontsize=16)\n",
    "    \n",
    "    Tticks = [800, 1000, 1500, 2500]\n",
    "    ax.set_xticks([1000./T for T in Tticks])\n",
    "    ax.set_xticklabels(['1/{:.0f}'.format(T) for T in Tticks])\n",
    "    plt.tick_params(axis='x', labelsize=11)\n",
    "    plt.tick_params(axis='y', labelsize=11)\n",
    "    #plt.legend()\n",
    "    #fig.savefig('combined.pdf')\n",
    "    "
   ]
  },
  {
   "cell_type": "code",
   "execution_count": 10,
   "metadata": {
    "collapsed": false
   },
   "outputs": [
    {
     "data": {
      "image/png": "[encoded data removed]",
      "text/plain": [
       "<matplotlib.figure.Figure at 0x110186e90>"
      ]
     },
     "metadata": {},
     "output_type": "display_data"
    }
   ],
   "source": [
    "fig, ax = plt.subplots()\n",
    "plt.plot(ln_A, E_a, 'ok', label=str(reaction))\n",
    "plt.xlabel(\"$E_a [K^{-1}]$\", fontsize=16)\n",
    "plt.ylabel(\"$log_{10}(A) [cm^3 / (mole \\cdot s)]$\", fontsize=16)\n",
    "\n",
    "\n",
    "plt.tick_params(axis='x', labelsize=11)\n",
    "plt.tick_params(axis='y', labelsize=11)\n",
    "#plt.legend()\n",
    "#fig.savefig(\"ln_AvsE_a.pdf\")"
   ]
  },
  {
   "cell_type": "code",
   "execution_count": 11,
   "metadata": {
    "collapsed": false
   },
   "outputs": [],
   "source": [
    "image_directory = \"./species/\"\n",
    "\n",
    "imagelist = []\n",
    "for filename in os.listdir(image_directory):\n",
    "    imagelist.append(image_directory + filename)"
   ]
  },
  {
   "cell_type": "code",
   "execution_count": 12,
   "metadata": {
    "collapsed": false
   },
   "outputs": [
    {
     "name": "stdout",
     "output_type": "stream",
     "text": [
      "C6H14O(6)+OOH(1)\n",
      "C6H14O(6)\n",
      "./species/2-Methyl-1-pentanol(6).png\n"
     ]
    },
    {
     "data": {
      "text/plain": [
       "<PngImagePlugin.PngImageFile image mode=RGB size=78x60 at 0x1130413B0>"
      ]
     },
     "execution_count": 12,
     "metadata": {},
     "output_type": "execute_result"
    }
   ],
   "source": [
    "for i in range(len(kin.keys())):\n",
    "    rates = kin.values()[i]\n",
    "    reaction = kin.keys()[i]\n",
    "    left, right = reaction.split('=')\n",
    "\n",
    "    if \"OOH\" in left:\n",
    "        print left\n",
    "        a,b = left.split('+')\n",
    "        if \"OOH\" not in a:\n",
    "            species = b\n",
    "            print a\n",
    "        else:\n",
    "            species = a\n",
    "            print b\n",
    "    else:\n",
    "        print right\n",
    "        a,b = right.split('+')\n",
    "        if \"OOH\" not in a:\n",
    "            species = a\n",
    "            print a\n",
    "        else:\n",
    "            species = b\n",
    "            print b\n",
    "    identifier, number = species.split('(')\n",
    "    number = '(' + number \n",
    "    for image in imagelist:\n",
    "        if number in image:\n",
    "            print image\n",
    "            #myImage = Image.open(image)\n",
    "\n",
    "#myImage"
   ]
  },
  {
   "cell_type": "markdown",
   "metadata": {},
   "source": [
    "left"
   ]
  },
  {
   "cell_type": "code",
   "execution_count": 13,
   "metadata": {
    "collapsed": false
   },
   "outputs": [
    {
     "data": {
      "text/plain": [
       "<PngImagePlugin.PngImageFile image mode=RGB size=78x60 at 0x1130413B0>"
      ]
     },
     "execution_count": 13,
     "metadata": {},
     "output_type": "execute_result"
    }
   ],
   "source": [
    "#myImage"
   ]
  },
  {
   "cell_type": "code",
   "execution_count": 14,
   "metadata": {
    "collapsed": false
   },
   "outputs": [
    {
     "data": {
      "text/plain": [
       "['./species/2,2,4-Trimethylpentane(2).png',\n",
       " './species/2,3-di-tert-butoxypropanol(13).png',\n",
       " './species/2,4-dimethyl-2-heptene(7).png',\n",
       " './species/2,4-Dimethylhexane(3).png',\n",
       " './species/2-(1-ethylpropoxy)-propane(14).png',\n",
       " './species/2-methyl 2-butanol(5).png',\n",
       " './species/2-Methyl-1-pentanol(6).png',\n",
       " './species/3-Methylheptane(4).png',\n",
       " './species/[CH2]C(=C)CCC=C(C)C=C(60).png',\n",
       " './species/[CH2]C(=O)C(C)CC(C)C(76).png',\n",
       " './species/[CH2]C(C)(C)CC(C)C(19).png',\n",
       " './species/[CH2]C(C)(C)OC(CO)COC(C)(C)C(81).png',\n",
       " './species/[CH2]C(C)(C)OCC(CO)OC(C)(C)C(80).png',\n",
       " './species/[CH2]C(C)(O)CC(37).png',\n",
       " './species/[CH2]C(C)=CC(C)CCC(52).png',\n",
       " './species/[CH2]C(C)CC(=O)CC(C)C(70).png',\n",
       " './species/[CH2]C(C)CC(C)(C)C(20).png',\n",
       " './species/[CH2]C(C)CC(C)C(C)=O(74).png',\n",
       " './species/[CH2]C(C)CC(C)CC(25).png',\n",
       " './species/[CH2]C(C)OC(CC)CC(86).png',\n",
       " './species/[CH2]C(C=C(C)C)CCC(50).png',\n",
       " './species/[CH2]C(C=C)=CCCC(=C)C(61).png',\n",
       " './species/[CH2]C(CC(C)C)C(C)=O(75).png',\n",
       " './species/[CH2]C(CC)CC(C)C(26).png',\n",
       " './species/[CH2]C(CC)CCCC(33).png',\n",
       " './species/[CH2]C(CO)CCC(44).png',\n",
       " './species/[CH2]c1ccc(C)cc1(66).png',\n",
       " './species/[CH2]C1CCCC1(57).png',\n",
       " './species/[CH2]CC(C)(C)O(38).png',\n",
       " './species/[CH2]CC(C)CC(C)C(27).png',\n",
       " './species/[CH2]CC(C)CCCC(35).png',\n",
       " './species/[CH2]CC(CC)OC(C)C(87).png',\n",
       " './species/[CH2]CCC(C)C=C(C)C(51).png',\n",
       " './species/[CH2]CCC(C)CO(45).png',\n",
       " './species/[CH2]CCCC(C)CC(34).png',\n",
       " './species/[CH]=C(C)CCC=C(C)C=C(64).png',\n",
       " './species/[CH]=CC(C)=CCCC(=C)C(65).png',\n",
       " './species/[O][O](16).png',\n",
       " './species/Ar.png',\n",
       " './species/C=[C]C(C)=CCCC(=C)C(63).png',\n",
       " './species/C=CC(C)=[C]CCC(=C)C(62).png',\n",
       " './species/C=CC(C)=C[CH]CC(=C)C(59).png',\n",
       " './species/C=CC(C)=CC[CH]C(=C)C(58).png',\n",
       " './species/C[C](C)CC(=O)CC(C)C(68).png',\n",
       " './species/C[C](C)CC(C)(C)C(17).png',\n",
       " './species/C[C](C)CC(C)C(C)=O(71).png',\n",
       " './species/C[C](CC(C)C)C(C)=O(72).png',\n",
       " './species/C[C]1CCCC1(54).png',\n",
       " './species/C[CH]C(C)(C)O(36).png',\n",
       " './species/C[CH]C(C)CC(C)C(24).png',\n",
       " './species/C[CH]C(C)CCCC(31).png',\n",
       " './species/C[CH]C(CC)OC(C)C(85).png',\n",
       " './species/C[CH]CC(C)C=C(C)C(49).png',\n",
       " './species/C[CH]CC(C)CO(42).png',\n",
       " './species/C[CH]CCC(C)CC(32).png',\n",
       " './species/CC(=O)C(C)[CH]C(C)C(73).png',\n",
       " './species/CC(C)(C)O[CH]C(CO)OC(C)(C)C(78).png',\n",
       " './species/CC(C)(C)OC[C](CO)OC(C)(C)C(77).png',\n",
       " './species/CC(C)(C)OCC([CH]O)OC(C)(C)C(79).png',\n",
       " './species/CC(C)(C)OCC(C[O])OC(C)(C)C(82).png',\n",
       " './species/CC(C)[CH]C(=O)CC(C)C(69).png',\n",
       " './species/CC(C)[CH]C(C)(C)C(18).png',\n",
       " './species/Cc1[c]cc(C)cc1(67).png',\n",
       " './species/CC1[CH]CCC1(55).png',\n",
       " './species/CC1C[CH]CC1(56).png',\n",
       " './species/CC[C](C)CC(C)C(21).png',\n",
       " './species/CC[C](CC)OC(C)C(83).png',\n",
       " './species/CC[CH]C(C)C=C(C)C(48).png',\n",
       " './species/CC[CH]C(C)CO(41).png',\n",
       " './species/CC[CH]CC(C)CC(30).png',\n",
       " './species/CCC(C)(C)[O](39).png',\n",
       " './species/CCC(C)[CH]C(C)C(23).png',\n",
       " './species/CCC(C)C[C](C)C(22).png',\n",
       " './species/CCC(CC)O[C](C)C(84).png',\n",
       " './species/CCC[C](C)C=C(C)C(47).png',\n",
       " './species/CCC[C](C)CO(40).png',\n",
       " './species/CCC[CH]C(C)CC(29).png',\n",
       " './species/CCCC(C)[C]=C(C)C(53).png',\n",
       " './species/CCCC(C)[CH]O(43).png',\n",
       " './species/CCCC(C)C[O](46).png',\n",
       " './species/CCCC[C](C)CC(28).png',\n",
       " './species/Diisobutyl ketone(11).png',\n",
       " './species/He.png',\n",
       " './species/Methyl 1,3-dimethylbutyl ketone(12).png',\n",
       " './species/methylcyclopentane(8).png',\n",
       " './species/N2.png',\n",
       " './species/Ne.png',\n",
       " './species/Ocimene(9).png',\n",
       " './species/OO(15).png',\n",
       " './species/OOH(1).png',\n",
       " './species/Xylene(10).png']"
      ]
     },
     "execution_count": 14,
     "metadata": {},
     "output_type": "execute_result"
    }
   ],
   "source": [
    "#imagelist"
   ]
  },
  {
   "cell_type": "code",
   "execution_count": null,
   "metadata": {
    "collapsed": true
   },
   "outputs": [],
   "source": []
  }
 ],
 "metadata": {
  "kernelspec": {
   "display_name": "Python 2",
   "language": "python",
   "name": "python2"
  },
  "language_info": {
   "codemirror_mode": {
    "name": "ipython",
    "version": 2
   },
   "file_extension": ".py",
   "mimetype": "text/x-python",
   "name": "python",
   "nbconvert_exporter": "python",
   "pygments_lexer": "ipython2",
   "version": "2.7.12"
  }
 },
 "nbformat": 4,
 "nbformat_minor": 2
}
