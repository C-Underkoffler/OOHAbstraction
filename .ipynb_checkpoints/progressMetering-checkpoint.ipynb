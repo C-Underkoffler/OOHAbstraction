{
 "cells": [
  {
   "cell_type": "markdown",
   "metadata": {},
   "source": [
    "# Progress Metering for OOH abstraction"
   ]
  },
  {
   "cell_type": "markdown",
   "metadata": {
    "collapsed": true
   },
   "source": [
    "This is a notebook designed to go through each output file in rwest-autotst-1 and determine the progress of each run."
   ]
  },
  {
   "cell_type": "code",
   "execution_count": 1,
   "metadata": {
    "collapsed": false
   },
   "outputs": [],
   "source": [
    "import os\n",
    "import re\n",
    "from collections import defaultdict, OrderedDict\n",
    "import pandas as pd"
   ]
  },
  {
   "cell_type": "code",
   "execution_count": null,
   "metadata": {
    "collapsed": false
   },
   "outputs": [],
   "source": [
    "directory = '/gss_gpfs_scratch/westgroup/rwest-autotst-1'\n",
    "results = defaultdict(OrderedDict)\n",
    "for i in range(1,408):\n",
    "    r = results[i]\n",
    "    filename = 'AutoTST.{0:d}.combined.log'.format(i)\n",
    "    filepath = os.path.join(directory,filename)\n",
    "    if os.path.exists(filepath):\n",
    "        r['1 log file exists'] = 1\n",
    "    else:\n",
    "        continue\n",
    "    with open(filepath) as f:\n",
    "        lines = f.readlines()\n",
    "    for j,l in enumerate(lines):\n",
    "        m = re.match('autoTST-OOH.py:62 <module> INFO (.*)', l)\n",
    "        if m:\n",
    "            r['0 reaction'] = m.group(1)\n",
    "        if 'We have generated a H_Abstraction reaction that matches, and used it to label the atoms' in l:\n",
    "            r['2 matched H-abstraction'] = 1\n",
    "        if 'Generating a TS geometry via the direct guess method' in l:\n",
    "            r['3 started making TS geometry'] = 1\n",
    "        if 'Reading existing ts file' in l:\n",
    "            r['4 using existing TS data file'] = 1\n",
    "        if 'Symmetry input file written to' in l:\n",
    "            r['5 starting Symmetry calculation'] = 1\n",
    "        if 'Point group:' in l:\n",
    "            r['6 Symmetry calc successful'] = 1\n",
    "        if 'line 295, in saveCoordinatesFromRDMol' in l:\n",
    "            r['7 saveCoordinatesFromRDMol bug'] = -1\n",
    "            print ''.join(lines[j-30:])\n",
    "        if 'CanTherm execution initiated' in l:\n",
    "            r['9 CanTherm started'] = 1\n",
    "        if 'One or both of the barrier heights of' in l:\n",
    "            r['9a CanTherm barrier height problem'] = -1\n",
    "        if \"Reading existing kinetics file\" in l:\n",
    "            r['A using prior calculation result'] = 1\n",
    "        if 'Yay, reaction kinetics calculated!!!' in l:\n",
    "            r['B overall success'] = 1\n"
   ]
  },
  {
   "cell_type": "code",
   "execution_count": null,
   "metadata": {
    "collapsed": false
   },
   "outputs": [],
   "source": [
    "df = pd.DataFrame(results)\n",
    "df"
   ]
  },
  {
   "cell_type": "code",
   "execution_count": 7,
   "metadata": {
    "collapsed": false
   },
   "outputs": [
    {
     "data": {
      "text/plain": [
       "0 reaction                            H2O2 + H <=> H2 + HO2CH3 + H2O2 <=> CH4 + HO2C...\n",
       "1 log file exists                                                                   199\n",
       "2 matched H-abstraction                                                             153\n",
       "3 started making TS geometry                                                        139\n",
       "4 using existing TS data file                                                       103\n",
       "5 starting Symmetry calculation                                                     103\n",
       "6 Symmetry calc successful                                                          103\n",
       "9 CanTherm started                                                                  103\n",
       "9a CanTherm barrier height problem                                                  -23\n",
       "A using prior calculation result                                                     14\n",
       "B overall success                                                                    92\n",
       "dtype: object"
      ]
     },
     "execution_count": 7,
     "metadata": {},
     "output_type": "execute_result"
    }
   ],
   "source": [
    "df.sum(axis=1)"
   ]
  },
  {
   "cell_type": "code",
   "execution_count": 8,
   "metadata": {
    "collapsed": false
   },
   "outputs": [
    {
     "data": {
      "text/plain": [
       "0 reaction                            199\n",
       "1 log file exists                     199\n",
       "2 matched H-abstraction               153\n",
       "3 started making TS geometry          139\n",
       "4 using existing TS data file         103\n",
       "5 starting Symmetry calculation       103\n",
       "6 Symmetry calc successful            103\n",
       "9 CanTherm started                    103\n",
       "9a CanTherm barrier height problem     23\n",
       "A using prior calculation result       14\n",
       "B overall success                      92\n",
       "dtype: int64"
      ]
     },
     "execution_count": 8,
     "metadata": {},
     "output_type": "execute_result"
    }
   ],
   "source": [
    "df.count(axis=1)"
   ]
  },
  {
   "cell_type": "code",
   "execution_count": 9,
   "metadata": {
    "collapsed": true
   },
   "outputs": [],
   "source": []
  },
  {
   "cell_type": "code",
   "execution_count": 9,
   "metadata": {
    "collapsed": true
   },
   "outputs": [],
   "source": []
  }
 ],
 "metadata": {
  "kernelspec": {
   "display_name": "Python 2",
   "language": "python",
   "name": "python2"
  },
  "language_info": {
   "codemirror_mode": {
    "name": "ipython",
    "version": 2
   },
   "file_extension": ".py",
   "mimetype": "text/x-python",
   "name": "python",
   "nbconvert_exporter": "python",
   "pygments_lexer": "ipython2",
   "version": "2.7.5"
  }
 },
 "nbformat": 4,
 "nbformat_minor": 0
}
