{
 "cells": [
  {
   "cell_type": "markdown",
   "metadata": {},
   "source": [
    "# Progress Metering for OOH abstraction"
   ]
  },
  {
   "cell_type": "markdown",
   "metadata": {
    "collapsed": true
   },
   "source": [
    "This is a notebook designed to go through each output file in rwest-autotst-1 and determine the progress of each run."
   ]
  },
  {
   "cell_type": "code",
   "execution_count": 1,
   "metadata": {
    "collapsed": false
   },
   "outputs": [],
   "source": [
    "import os\n",
    "import re\n",
    "from collections import defaultdict, OrderedDict\n",
    "import pandas as pd"
   ]
  },
  {
   "cell_type": "code",
   "execution_count": 2,
   "metadata": {
    "collapsed": false
   },
   "outputs": [],
   "source": [
    "directory = '/gss_gpfs_scratch/harms.n/comparerTST'\n",
    "results = defaultdict(OrderedDict)\n",
    "for i in range(1,408):\n",
    "    r = results[i]\n",
    "    filename = 'AutoTST.{0:d}.combined.log'.format(i)\n",
    "    filepath = os.path.join(directory,filename)\n",
    "    if os.path.exists(filepath):\n",
    "        r['1 log file exists'] = 1\n",
    "    else:\n",
    "        continue\n",
    "    with open(filepath) as f:\n",
    "        lines = f.readlines()\n",
    "    for j,l in enumerate(lines):\n",
    "        m = re.match('autoTST-OOH.py:62 <module> INFO (.*)', l)\n",
    "        if m:\n",
    "            r['0 reaction'] = m.group(1)\n",
    "        if 'We have generated a H_Abstraction reaction that matches, and used it to label the atoms' in l:\n",
    "            r['2 matched H-abstraction'] = 1\n",
    "        if 'Generating a TS geometry via the direct guess method' in l:\n",
    "            r['3 started making TS geometry'] = 1\n",
    "        if 'Reading existing ts file' in l:\n",
    "            r['4 using existing TS data file'] = 1\n",
    "        if 'Symmetry input file written to' in l:\n",
    "            r['5 starting Symmetry calculation'] = 1\n",
    "        if 'Point group:' in l:\n",
    "            r['6 Symmetry calc successful'] = 1\n",
    "        if 'line 295, in saveCoordinatesFromRDMol' in l:\n",
    "            r['7 saveCoordinatesFromRDMol bug'] = -1\n",
    "            print ''.join(lines[j-30:])\n",
    "        if 'CanTherm execution initiated' in l:\n",
    "            r['9 CanTherm started'] = 1\n",
    "        if 'One or both of the barrier heights of' in l:\n",
    "            r['9a CanTherm barrier height problem'] = -1\n",
    "        if \"Reading existing kinetics file\" in l:\n",
    "            r['A using prior calculation result'] = 1\n",
    "        if 'Yay, reaction kinetics calculated!!!' in l:\n",
    "            r['B overall success'] = 1\n"
   ]
  },
  {
   "cell_type": "code",
   "execution_count": 3,
   "metadata": {
    "collapsed": false
   },
   "outputs": [
    {
     "data": {
      "text/html": [
       "<div>\n",
       "<table border=\"1\" class=\"dataframe\">\n",
       "  <thead>\n",
       "    <tr style=\"text-align: right;\">\n",
       "      <th></th>\n",
       "      <th>1</th>\n",
       "      <th>2</th>\n",
       "      <th>3</th>\n",
       "      <th>4</th>\n",
       "      <th>5</th>\n",
       "      <th>6</th>\n",
       "      <th>7</th>\n",
       "      <th>8</th>\n",
       "      <th>9</th>\n",
       "      <th>10</th>\n",
       "      <th>...</th>\n",
       "      <th>398</th>\n",
       "      <th>399</th>\n",
       "      <th>400</th>\n",
       "      <th>401</th>\n",
       "      <th>402</th>\n",
       "      <th>403</th>\n",
       "      <th>404</th>\n",
       "      <th>405</th>\n",
       "      <th>406</th>\n",
       "      <th>407</th>\n",
       "    </tr>\n",
       "  </thead>\n",
       "  <tbody>\n",
       "  </tbody>\n",
       "</table>\n",
       "<p>0 rows × 407 columns</p>\n",
       "</div>"
      ],
      "text/plain": [
       "Empty DataFrame\n",
       "Columns: [1, 2, 3, 4, 5, 6, 7, 8, 9, 10, 11, 12, 13, 14, 15, 16, 17, 18, 19, 20, 21, 22, 23, 24, 25, 26, 27, 28, 29, 30, 31, 32, 33, 34, 35, 36, 37, 38, 39, 40, 41, 42, 43, 44, 45, 46, 47, 48, 49, 50, 51, 52, 53, 54, 55, 56, 57, 58, 59, 60, 61, 62, 63, 64, 65, 66, 67, 68, 69, 70, 71, 72, 73, 74, 75, 76, 77, 78, 79, 80, 81, 82, 83, 84, 85, 86, 87, 88, 89, 90, 91, 92, 93, 94, 95, 96, 97, 98, 99, 100, ...]\n",
       "Index: []\n",
       "\n",
       "[0 rows x 407 columns]"
      ]
     },
     "execution_count": 3,
     "metadata": {},
     "output_type": "execute_result"
    }
   ],
   "source": [
    "df = pd.DataFrame(results)\n",
    "df"
   ]
  },
  {
   "cell_type": "code",
   "execution_count": 4,
   "metadata": {
    "collapsed": false
   },
   "outputs": [
    {
     "data": {
      "text/plain": [
       "Series([], dtype: float64)"
      ]
     },
     "execution_count": 4,
     "metadata": {},
     "output_type": "execute_result"
    }
   ],
   "source": [
    "df.sum(axis=1)"
   ]
  },
  {
   "cell_type": "code",
   "execution_count": 5,
   "metadata": {
    "collapsed": false
   },
   "outputs": [
    {
     "data": {
      "text/plain": [
       "Series([], dtype: int64)"
      ]
     },
     "execution_count": 5,
     "metadata": {},
     "output_type": "execute_result"
    }
   ],
   "source": [
    "df.count(axis=1)"
   ]
  },
  {
   "cell_type": "code",
   "execution_count": 6,
   "metadata": {
    "collapsed": true
   },
   "outputs": [],
   "source": []
  },
  {
   "cell_type": "code",
   "execution_count": 6,
   "metadata": {
    "collapsed": true
   },
   "outputs": [],
   "source": []
  }
 ],
 "metadata": {
  "kernelspec": {
   "display_name": "Python 2",
   "language": "python",
   "name": "python2"
  },
  "language_info": {
   "codemirror_mode": {
    "name": "ipython",
    "version": 2
   },
   "file_extension": ".py",
   "mimetype": "text/x-python",
   "name": "python",
   "nbconvert_exporter": "python",
   "pygments_lexer": "ipython2",
   "version": "2.7.12"
  }
 },
 "nbformat": 4,
 "nbformat_minor": 0
}
