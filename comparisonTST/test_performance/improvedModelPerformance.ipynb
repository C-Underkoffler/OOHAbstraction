{
 "cells": [
  {
   "cell_type": "code",
   "execution_count": 1,
   "metadata": {},
   "outputs": [],
   "source": [
    "import sys\n",
    "from pyteck.eval_model import evaluate_model"
   ]
  },
  {
   "cell_type": "code",
   "execution_count": 2,
   "metadata": {},
   "outputs": [],
   "source": [
    "model = 'ConstrainedModelRates.cti'\n",
    "species_key = 'species-keys.yaml'\n",
    "data_path = 'data'\n",
    "data_list = 'nbutanol-datalist.txt'\n",
    "model_path = 'models'"
   ]
  },
  {
   "cell_type": "code",
   "execution_count": 4,
   "metadata": {},
   "outputs": [
    {
     "name": "stdout",
     "output_type": "stream",
     "text": [
      "Warning: multiple changing variables. Using temperature.\n",
      "Standard deviation of 0.00 too low, using 0.10\n",
      "Done with case  Bec_phi_0.71_n-b_0.0338_xO2_0.284_2\n",
      "Done with case  Bec_phi_0.71_n-b_0.0338_xO2_0.284_1\n",
      "Done with case  Bec_phi_0.71_n-b_0.0338_xO2_0.284_0\n",
      "Warning: multiple changing variables. Using temperature.\n",
      "Standard deviation of 0.07 too low, using 0.10\n",
      "Done with case  Bec_phi_0.72_n-b_0.0172_xO2_0.144_1\n",
      "Done with case  Bec_phi_0.72_n-b_0.0172_xO2_0.144_0\n",
      "Done with case  Bec_phi_0.72_n-b_0.0172_xO2_0.144_2\n",
      "Done with case  Bec_phi_0.72_n-b_0.0172_xO2_0.144_4\n",
      "Done with case  Bec_phi_0.72_n-b_0.0172_xO2_0.144_3\n",
      "Done with case  Bec_phi_0.72_n-b_0.0172_xO2_0.144_5\n",
      "Done with case  Bec_phi_0.72_n-b_0.0172_xO2_0.144_6\n",
      "Done with case  Bec_phi_0.72_n-b_0.0172_xO2_0.144_7\n",
      "Warning: multiple changing variables. Using temperature.\n"
     ]
    },
    {
     "ename": "ValueError",
     "evalue": "x must be strictly increasing",
     "output_type": "error",
     "traceback": [
      "\u001b[0;31m---------------------------------------------------------------------------\u001b[0m",
      "\u001b[0;31mValueError\u001b[0m                                Traceback (most recent call last)",
      "\u001b[0;32m<ipython-input-4-5840207444cd>\u001b[0m in \u001b[0;36m<module>\u001b[0;34m()\u001b[0m\n\u001b[1;32m      2\u001b[0m                         \u001b[0mdataset_file\u001b[0m\u001b[0;34m=\u001b[0m\u001b[0mdata_list\u001b[0m\u001b[0;34m,\u001b[0m \u001b[0mdata_path\u001b[0m\u001b[0;34m=\u001b[0m\u001b[0mdata_path\u001b[0m\u001b[0;34m,\u001b[0m\u001b[0;34m\u001b[0m\u001b[0m\n\u001b[1;32m      3\u001b[0m                         \u001b[0mmodel_path\u001b[0m\u001b[0;34m=\u001b[0m\u001b[0mmodel_path\u001b[0m\u001b[0;34m,\u001b[0m\u001b[0;34m\u001b[0m\u001b[0m\n\u001b[0;32m----> 4\u001b[0;31m                         \u001b[0mskip_validation\u001b[0m\u001b[0;34m=\u001b[0m\u001b[0;32mFalse\u001b[0m\u001b[0;34m\u001b[0m\u001b[0m\n\u001b[0m\u001b[1;32m      5\u001b[0m                             )\n",
      "\u001b[0;32m~/anaconda2/envs/py3/lib/python3.6/site-packages/pyteck/eval_model.py\u001b[0m in \u001b[0;36mevaluate_model\u001b[0;34m(model_name, spec_keys_file, dataset_file, data_path, model_path, results_path, model_variant_file, num_threads, print_results, restart, skip_validation)\u001b[0m\n\u001b[1;32m    263\u001b[0m         \u001b[0mvariable\u001b[0m \u001b[0;34m=\u001b[0m \u001b[0mget_changing_variable\u001b[0m\u001b[0;34m(\u001b[0m\u001b[0mproperties\u001b[0m\u001b[0;34m.\u001b[0m\u001b[0mdatapoints\u001b[0m\u001b[0;34m)\u001b[0m\u001b[0;34m\u001b[0m\u001b[0m\n\u001b[1;32m    264\u001b[0m         \u001b[0;31m# for ignition delay, use logarithm of values\u001b[0m\u001b[0;34m\u001b[0m\u001b[0;34m\u001b[0m\u001b[0m\n\u001b[0;32m--> 265\u001b[0;31m         \u001b[0mstandard_dev\u001b[0m \u001b[0;34m=\u001b[0m \u001b[0mestimate_std_dev\u001b[0m\u001b[0;34m(\u001b[0m\u001b[0mvariable\u001b[0m\u001b[0;34m,\u001b[0m \u001b[0mnumpy\u001b[0m\u001b[0;34m.\u001b[0m\u001b[0mlog\u001b[0m\u001b[0;34m(\u001b[0m\u001b[0mign_delay\u001b[0m\u001b[0;34m)\u001b[0m\u001b[0;34m)\u001b[0m\u001b[0;34m\u001b[0m\u001b[0m\n\u001b[0m\u001b[1;32m    266\u001b[0m         \u001b[0mdataset_meta\u001b[0m\u001b[0;34m[\u001b[0m\u001b[0;34m'standard deviation'\u001b[0m\u001b[0;34m]\u001b[0m \u001b[0;34m=\u001b[0m \u001b[0mfloat\u001b[0m\u001b[0;34m(\u001b[0m\u001b[0mstandard_dev\u001b[0m\u001b[0;34m)\u001b[0m\u001b[0;34m\u001b[0m\u001b[0m\n\u001b[1;32m    267\u001b[0m \u001b[0;34m\u001b[0m\u001b[0m\n",
      "\u001b[0;32m~/anaconda2/envs/py3/lib/python3.6/site-packages/pyteck/eval_model.py\u001b[0m in \u001b[0;36mestimate_std_dev\u001b[0;34m(indep_variable, dep_variable)\u001b[0m\n\u001b[1;32m    115\u001b[0m         \u001b[0mspline\u001b[0m \u001b[0;34m=\u001b[0m \u001b[0mUnivariateSpline\u001b[0m\u001b[0;34m(\u001b[0m\u001b[0mindep_variable\u001b[0m\u001b[0;34m,\u001b[0m \u001b[0mdep_variable\u001b[0m\u001b[0;34m,\u001b[0m \u001b[0mk\u001b[0m\u001b[0;34m=\u001b[0m\u001b[0;36m2\u001b[0m\u001b[0;34m)\u001b[0m\u001b[0;34m\u001b[0m\u001b[0m\n\u001b[1;32m    116\u001b[0m     \u001b[0;32melse\u001b[0m\u001b[0;34m:\u001b[0m\u001b[0;34m\u001b[0m\u001b[0m\n\u001b[0;32m--> 117\u001b[0;31m         \u001b[0mspline\u001b[0m \u001b[0;34m=\u001b[0m \u001b[0mUnivariateSpline\u001b[0m\u001b[0;34m(\u001b[0m\u001b[0mindep_variable\u001b[0m\u001b[0;34m,\u001b[0m \u001b[0mdep_variable\u001b[0m\u001b[0;34m)\u001b[0m\u001b[0;34m\u001b[0m\u001b[0m\n\u001b[0m\u001b[1;32m    118\u001b[0m \u001b[0;34m\u001b[0m\u001b[0m\n\u001b[1;32m    119\u001b[0m     \u001b[0mstandard_dev\u001b[0m \u001b[0;34m=\u001b[0m \u001b[0mnumpy\u001b[0m\u001b[0;34m.\u001b[0m\u001b[0mstd\u001b[0m\u001b[0;34m(\u001b[0m\u001b[0mdep_variable\u001b[0m \u001b[0;34m-\u001b[0m \u001b[0mspline\u001b[0m\u001b[0;34m(\u001b[0m\u001b[0mindep_variable\u001b[0m\u001b[0;34m)\u001b[0m\u001b[0;34m)\u001b[0m\u001b[0;34m\u001b[0m\u001b[0m\n",
      "\u001b[0;32m~/anaconda2/envs/py3/lib/python3.6/site-packages/scipy/interpolate/fitpack2.py\u001b[0m in \u001b[0;36m__init__\u001b[0;34m(self, x, y, w, bbox, k, s, ext, check_finite)\u001b[0m\n\u001b[1;32m    174\u001b[0m                 \u001b[0;32mraise\u001b[0m \u001b[0mValueError\u001b[0m\u001b[0;34m(\u001b[0m\u001b[0;34m\"x and y array must not contain NaNs or infs.\"\u001b[0m\u001b[0;34m)\u001b[0m\u001b[0;34m\u001b[0m\u001b[0m\n\u001b[1;32m    175\u001b[0m         \u001b[0;32mif\u001b[0m \u001b[0;32mnot\u001b[0m \u001b[0mall\u001b[0m\u001b[0;34m(\u001b[0m\u001b[0mdiff\u001b[0m\u001b[0;34m(\u001b[0m\u001b[0mx\u001b[0m\u001b[0;34m)\u001b[0m \u001b[0;34m>\u001b[0m \u001b[0;36m0.0\u001b[0m\u001b[0;34m)\u001b[0m\u001b[0;34m:\u001b[0m\u001b[0;34m\u001b[0m\u001b[0m\n\u001b[0;32m--> 176\u001b[0;31m             \u001b[0;32mraise\u001b[0m \u001b[0mValueError\u001b[0m\u001b[0;34m(\u001b[0m\u001b[0;34m'x must be strictly increasing'\u001b[0m\u001b[0;34m)\u001b[0m\u001b[0;34m\u001b[0m\u001b[0m\n\u001b[0m\u001b[1;32m    177\u001b[0m \u001b[0;34m\u001b[0m\u001b[0m\n\u001b[1;32m    178\u001b[0m         \u001b[0;31m# _data == x,y,w,xb,xe,k,s,n,t,c,fp,fpint,nrdata,ier\u001b[0m\u001b[0;34m\u001b[0m\u001b[0;34m\u001b[0m\u001b[0m\n",
      "\u001b[0;31mValueError\u001b[0m: x must be strictly increasing"
     ]
    }
   ],
   "source": [
    "output = evaluate_model(model, spec_keys_file='species-keys.yaml',\n",
    "                        dataset_file=data_list, data_path=data_path,\n",
    "                        model_path=model_path,\n",
    "                        skip_validation=False\n",
    "                            )"
   ]
  },
  {
   "cell_type": "code",
   "execution_count": null,
   "metadata": {},
   "outputs": [],
   "source": []
  }
 ],
 "metadata": {
  "kernelspec": {
   "display_name": "Python 3",
   "language": "python",
   "name": "python3"
  },
  "language_info": {
   "codemirror_mode": {
    "name": "ipython",
    "version": 3
   },
   "file_extension": ".py",
   "mimetype": "text/x-python",
   "name": "python",
   "nbconvert_exporter": "python",
   "pygments_lexer": "ipython3",
   "version": "3.6.3"
  }
 },
 "nbformat": 4,
 "nbformat_minor": 2
}
